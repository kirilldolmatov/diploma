{
 "cells": [
  {
   "cell_type": "code",
   "execution_count": 43,
   "metadata": {},
   "outputs": [],
   "source": [
    "import shutil\n",
    "import pandas as pd\n",
    "import numpy as np"
   ]
  },
  {
   "cell_type": "code",
   "execution_count": 3,
   "metadata": {},
   "outputs": [
    {
     "name": "stdout",
     "output_type": "stream",
     "text": [
      "\u001b[1m\u001b[36mcode\u001b[m\u001b[m \u001b[1m\u001b[36mdata\u001b[m\u001b[m \u001b[1m\u001b[36mref\u001b[m\u001b[m  \u001b[1m\u001b[36mtext\u001b[m\u001b[m\n"
     ]
    }
   ],
   "source": [
    "! ls .."
   ]
  },
  {
   "attachments": {},
   "cell_type": "markdown",
   "metadata": {},
   "source": [
    "# Посмотрим на данные"
   ]
  },
  {
   "cell_type": "code",
   "execution_count": 4,
   "metadata": {},
   "outputs": [],
   "source": [
    "df = pd.read_excel('../data/BlastsOnline/MasterlistAug30-2017.xlsx')"
   ]
  },
  {
   "cell_type": "code",
   "execution_count": 5,
   "metadata": {},
   "outputs": [
    {
     "data": {
      "text/html": [
       "<div>\n",
       "<style scoped>\n",
       "    .dataframe tbody tr th:only-of-type {\n",
       "        vertical-align: middle;\n",
       "    }\n",
       "\n",
       "    .dataframe tbody tr th {\n",
       "        vertical-align: top;\n",
       "    }\n",
       "\n",
       "    .dataframe thead th {\n",
       "        text-align: right;\n",
       "    }\n",
       "</style>\n",
       "<table border=\"1\" class=\"dataframe\">\n",
       "  <thead>\n",
       "    <tr style=\"text-align: right;\">\n",
       "      <th></th>\n",
       "      <th>Unnamed: 0</th>\n",
       "      <th>Unnamed: 1</th>\n",
       "      <th>File Name</th>\n",
       "      <th>GRADE</th>\n",
       "      <th>Expansion</th>\n",
       "      <th>ICM</th>\n",
       "      <th>TE</th>\n",
       "      <th>Outcome</th>\n",
       "      <th>Acquisition Year</th>\n",
       "    </tr>\n",
       "  </thead>\n",
       "  <tbody>\n",
       "    <tr>\n",
       "      <th>0</th>\n",
       "      <td>NaN</td>\n",
       "      <td>NaN</td>\n",
       "      <td>NaN</td>\n",
       "      <td>According to the Gardner's Method</td>\n",
       "      <td>NaN</td>\n",
       "      <td>NaN</td>\n",
       "      <td>NaN</td>\n",
       "      <td>NaN</td>\n",
       "      <td>NaN</td>\n",
       "    </tr>\n",
       "    <tr>\n",
       "      <th>1</th>\n",
       "      <td>NaN</td>\n",
       "      <td>NaN</td>\n",
       "      <td>Blast_PCRM_R12-0137</td>\n",
       "      <td>4AA</td>\n",
       "      <td>4.0</td>\n",
       "      <td>A</td>\n",
       "      <td>A</td>\n",
       "      <td>1.0</td>\n",
       "      <td>2012</td>\n",
       "    </tr>\n",
       "    <tr>\n",
       "      <th>2</th>\n",
       "      <td>NaN</td>\n",
       "      <td>NaN</td>\n",
       "      <td>Blast_PCRM_R12-0160</td>\n",
       "      <td>4AA</td>\n",
       "      <td>4.0</td>\n",
       "      <td>A</td>\n",
       "      <td>A</td>\n",
       "      <td>1.0</td>\n",
       "      <td>2012</td>\n",
       "    </tr>\n",
       "    <tr>\n",
       "      <th>3</th>\n",
       "      <td>NaN</td>\n",
       "      <td>NaN</td>\n",
       "      <td>Blast_PCRM_R12-0173a</td>\n",
       "      <td>3AB</td>\n",
       "      <td>3.0</td>\n",
       "      <td>A</td>\n",
       "      <td>B</td>\n",
       "      <td>0.0</td>\n",
       "      <td>2012</td>\n",
       "    </tr>\n",
       "    <tr>\n",
       "      <th>4</th>\n",
       "      <td>NaN</td>\n",
       "      <td>NaN</td>\n",
       "      <td>Blast_PCRM_R12-0173b</td>\n",
       "      <td>2AA</td>\n",
       "      <td>2.0</td>\n",
       "      <td>A</td>\n",
       "      <td>A</td>\n",
       "      <td>0.0</td>\n",
       "      <td>2012</td>\n",
       "    </tr>\n",
       "  </tbody>\n",
       "</table>\n",
       "</div>"
      ],
      "text/plain": [
       "   Unnamed: 0  Unnamed: 1             File Name  \\\n",
       "0         NaN         NaN                   NaN   \n",
       "1         NaN         NaN   Blast_PCRM_R12-0137   \n",
       "2         NaN         NaN   Blast_PCRM_R12-0160   \n",
       "3         NaN         NaN  Blast_PCRM_R12-0173a   \n",
       "4         NaN         NaN  Blast_PCRM_R12-0173b   \n",
       "\n",
       "                               GRADE  Expansion  ICM   TE  Outcome  \\\n",
       "0  According to the Gardner's Method        NaN  NaN  NaN      NaN   \n",
       "1                                4AA        4.0    A    A      1.0   \n",
       "2                                4AA        4.0    A    A      1.0   \n",
       "3                                3AB        3.0    A    B      0.0   \n",
       "4                                2AA        2.0    A    A      0.0   \n",
       "\n",
       "  Acquisition Year  \n",
       "0              NaN  \n",
       "1             2012  \n",
       "2             2012  \n",
       "3             2012  \n",
       "4             2012  "
      ]
     },
     "execution_count": 5,
     "metadata": {},
     "output_type": "execute_result"
    }
   ],
   "source": [
    "df.head()"
   ]
  },
  {
   "cell_type": "code",
   "execution_count": 23,
   "metadata": {},
   "outputs": [],
   "source": [
    "df = df[['File Name', 'GRADE']]\n",
    "df.dropna(inplace=True)"
   ]
  },
  {
   "cell_type": "code",
   "execution_count": 26,
   "metadata": {},
   "outputs": [
    {
     "data": {
      "text/html": [
       "<div>\n",
       "<style scoped>\n",
       "    .dataframe tbody tr th:only-of-type {\n",
       "        vertical-align: middle;\n",
       "    }\n",
       "\n",
       "    .dataframe tbody tr th {\n",
       "        vertical-align: top;\n",
       "    }\n",
       "\n",
       "    .dataframe thead th {\n",
       "        text-align: right;\n",
       "    }\n",
       "</style>\n",
       "<table border=\"1\" class=\"dataframe\">\n",
       "  <thead>\n",
       "    <tr style=\"text-align: right;\">\n",
       "      <th></th>\n",
       "      <th>File Name</th>\n",
       "      <th>GRADE</th>\n",
       "    </tr>\n",
       "  </thead>\n",
       "  <tbody>\n",
       "    <tr>\n",
       "      <th>1</th>\n",
       "      <td>Blast_PCRM_R12-0137</td>\n",
       "      <td>4AA</td>\n",
       "    </tr>\n",
       "    <tr>\n",
       "      <th>2</th>\n",
       "      <td>Blast_PCRM_R12-0160</td>\n",
       "      <td>4AA</td>\n",
       "    </tr>\n",
       "    <tr>\n",
       "      <th>3</th>\n",
       "      <td>Blast_PCRM_R12-0173a</td>\n",
       "      <td>3AB</td>\n",
       "    </tr>\n",
       "    <tr>\n",
       "      <th>4</th>\n",
       "      <td>Blast_PCRM_R12-0173b</td>\n",
       "      <td>2AA</td>\n",
       "    </tr>\n",
       "    <tr>\n",
       "      <th>5</th>\n",
       "      <td>Blast_PCRM_R12-0221a</td>\n",
       "      <td>3AA</td>\n",
       "    </tr>\n",
       "  </tbody>\n",
       "</table>\n",
       "</div>"
      ],
      "text/plain": [
       "              File Name GRADE\n",
       "1   Blast_PCRM_R12-0137   4AA\n",
       "2   Blast_PCRM_R12-0160   4AA\n",
       "3  Blast_PCRM_R12-0173a   3AB\n",
       "4  Blast_PCRM_R12-0173b   2AA\n",
       "5  Blast_PCRM_R12-0221a   3AA"
      ]
     },
     "execution_count": 26,
     "metadata": {},
     "output_type": "execute_result"
    }
   ],
   "source": [
    "df.head()"
   ]
  },
  {
   "cell_type": "code",
   "execution_count": 25,
   "metadata": {},
   "outputs": [],
   "source": [
    "good = ['AA', 'AB']\n",
    "avg = ['BB', 'AC', 'BA']\n",
    "bad = ['CC', 'BC', 'CB']"
   ]
  },
  {
   "cell_type": "code",
   "execution_count": 34,
   "metadata": {},
   "outputs": [
    {
     "name": "stderr",
     "output_type": "stream",
     "text": [
      "/var/folders/1d/q9dqxw4d05q93135d97kmfym0000gn/T/ipykernel_22312/2422043504.py:4: SettingWithCopyWarning: \n",
      "A value is trying to be set on a copy of a slice from a DataFrame\n",
      "\n",
      "See the caveats in the documentation: https://pandas.pydata.org/pandas-docs/stable/user_guide/indexing.html#returning-a-view-versus-a-copy\n",
      "  df['markup'][idx] = 'good'\n",
      "/opt/homebrew/Caskroom/miniforge/base/envs/my_env/lib/python3.9/site-packages/pandas/core/indexing.py:1732: SettingWithCopyWarning: \n",
      "A value is trying to be set on a copy of a slice from a DataFrame\n",
      "\n",
      "See the caveats in the documentation: https://pandas.pydata.org/pandas-docs/stable/user_guide/indexing.html#returning-a-view-versus-a-copy\n",
      "  self._setitem_single_block(indexer, value, name)\n"
     ]
    }
   ],
   "source": [
    "df['markup'] = np.nan\n",
    "for idx, row in df.iterrows():\n",
    "    if row['GRADE'][1:] in good:\n",
    "        df['markup'][idx] = 'good'\n",
    "    elif row['GRADE'][1:] in avg:\n",
    "        df['markup'][idx] = 'avg'\n",
    "    elif row['GRADE'][1:] in bad:\n",
    "        df['markup'][idx] = 'bad'"
   ]
  },
  {
   "cell_type": "code",
   "execution_count": 38,
   "metadata": {},
   "outputs": [],
   "source": [
    "df.dropna(inplace=True)"
   ]
  },
  {
   "cell_type": "code",
   "execution_count": 39,
   "metadata": {},
   "outputs": [
    {
     "data": {
      "text/html": [
       "<div>\n",
       "<style scoped>\n",
       "    .dataframe tbody tr th:only-of-type {\n",
       "        vertical-align: middle;\n",
       "    }\n",
       "\n",
       "    .dataframe tbody tr th {\n",
       "        vertical-align: top;\n",
       "    }\n",
       "\n",
       "    .dataframe thead th {\n",
       "        text-align: right;\n",
       "    }\n",
       "</style>\n",
       "<table border=\"1\" class=\"dataframe\">\n",
       "  <thead>\n",
       "    <tr style=\"text-align: right;\">\n",
       "      <th></th>\n",
       "      <th>File Name</th>\n",
       "      <th>GRADE</th>\n",
       "      <th>markup</th>\n",
       "    </tr>\n",
       "  </thead>\n",
       "  <tbody>\n",
       "    <tr>\n",
       "      <th>1</th>\n",
       "      <td>Blast_PCRM_R12-0137</td>\n",
       "      <td>4AA</td>\n",
       "      <td>good</td>\n",
       "    </tr>\n",
       "    <tr>\n",
       "      <th>2</th>\n",
       "      <td>Blast_PCRM_R12-0160</td>\n",
       "      <td>4AA</td>\n",
       "      <td>good</td>\n",
       "    </tr>\n",
       "    <tr>\n",
       "      <th>3</th>\n",
       "      <td>Blast_PCRM_R12-0173a</td>\n",
       "      <td>3AB</td>\n",
       "      <td>good</td>\n",
       "    </tr>\n",
       "    <tr>\n",
       "      <th>4</th>\n",
       "      <td>Blast_PCRM_R12-0173b</td>\n",
       "      <td>2AA</td>\n",
       "      <td>good</td>\n",
       "    </tr>\n",
       "    <tr>\n",
       "      <th>5</th>\n",
       "      <td>Blast_PCRM_R12-0221a</td>\n",
       "      <td>3AA</td>\n",
       "      <td>good</td>\n",
       "    </tr>\n",
       "  </tbody>\n",
       "</table>\n",
       "</div>"
      ],
      "text/plain": [
       "              File Name GRADE markup\n",
       "1   Blast_PCRM_R12-0137   4AA   good\n",
       "2   Blast_PCRM_R12-0160   4AA   good\n",
       "3  Blast_PCRM_R12-0173a   3AB   good\n",
       "4  Blast_PCRM_R12-0173b   2AA   good\n",
       "5  Blast_PCRM_R12-0221a   3AA   good"
      ]
     },
     "execution_count": 39,
     "metadata": {},
     "output_type": "execute_result"
    }
   ],
   "source": [
    "df.head()"
   ]
  },
  {
   "cell_type": "code",
   "execution_count": 40,
   "metadata": {},
   "outputs": [
    {
     "data": {
      "text/plain": [
       "good    0.654618\n",
       "avg     0.305221\n",
       "bad     0.040161\n",
       "Name: markup, dtype: float64"
      ]
     },
     "execution_count": 40,
     "metadata": {},
     "output_type": "execute_result"
    }
   ],
   "source": [
    "df.markup.value_counts('f')"
   ]
  },
  {
   "cell_type": "code",
   "execution_count": 42,
   "metadata": {},
   "outputs": [
    {
     "data": {
      "text/plain": [
       "(249, 3)"
      ]
     },
     "execution_count": 42,
     "metadata": {},
     "output_type": "execute_result"
    }
   ],
   "source": [
    "df.shape"
   ]
  },
  {
   "cell_type": "code",
   "execution_count": 51,
   "metadata": {},
   "outputs": [
    {
     "name": "stdout",
     "output_type": "stream",
     "text": [
      "Blast_PCRM_2 x 2AB d5 left.BMP\n",
      "Blast_PCRM_2 x 2AB d5 right.BMP\n"
     ]
    }
   ],
   "source": [
    "for _, row in df.iterrows():\n",
    "    src = f\"/Users/kirill/code/diploma/data/BlastsOnline/Images/{row['File Name']}.BMP\"\n",
    "    dst = f\"/Users/kirill/code/diploma/data/BlastsOnline/{row['markup']}/{row['File Name']}-{row['GRADE']}.BMP\"\n",
    "    try:\n",
    "        shutil.copyfile(src, dst)\n",
    "    except:\n",
    "        print(row['File Name'])"
   ]
  },
  {
   "cell_type": "code",
   "execution_count": null,
   "metadata": {},
   "outputs": [],
   "source": []
  }
 ],
 "metadata": {
  "kernelspec": {
   "display_name": "my_env",
   "language": "python",
   "name": "python3"
  },
  "language_info": {
   "codemirror_mode": {
    "name": "ipython",
    "version": 3
   },
   "file_extension": ".py",
   "mimetype": "text/x-python",
   "name": "python",
   "nbconvert_exporter": "python",
   "pygments_lexer": "ipython3",
   "version": "3.9.10"
  },
  "orig_nbformat": 4,
  "vscode": {
   "interpreter": {
    "hash": "de514bc4764f34c42f2c3c38faf80d40df252ce645907c27928a3984d2f586ab"
   }
  }
 },
 "nbformat": 4,
 "nbformat_minor": 2
}
