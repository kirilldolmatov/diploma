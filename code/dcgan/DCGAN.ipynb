{
  "cells": [
    {
      "cell_type": "code",
      "execution_count": 3,
      "metadata": {
        "id": "hVhHfCEbn4Aj"
      },
      "outputs": [],
      "source": [
        "import torch\n",
        "import torch.nn as nn\n",
        "from torchvision.utils import save_image\n",
        "from torch.utils.data import DataLoader\n",
        "import torchvision.transforms as transforms\n",
        "import torch.optim as optim\n",
        "import torchvision.datasets as datasets\n",
        "import numpy as np\n",
        "import matplotlib\n",
        "from matplotlib import pyplot as plt\n",
        "from tqdm import tqdm\n",
        "matplotlib.style.use('ggplot')"
      ]
    },
    {
      "cell_type": "code",
      "execution_count": 4,
      "metadata": {
        "id": "KUeYtFzPpQiP"
      },
      "outputs": [],
      "source": [
        "class Generator(nn.Module):\n",
        "    def __init__(self, nz):\n",
        "        super(Generator, self).__init__()\n",
        "        self.nz = nz\n",
        "        self.main = nn.Sequential(\n",
        "            # nz will be the input to the first convolution\n",
        "            nn.ConvTranspose2d(\n",
        "                nz, 512, kernel_size=4, \n",
        "                stride=1, padding=0, bias=False),\n",
        "            nn.BatchNorm2d(512),\n",
        "            nn.ReLU(True),\n",
        "            nn.ConvTranspose2d(\n",
        "                512, 256, kernel_size=4, \n",
        "                stride=2, padding=1, bias=False),\n",
        "            nn.BatchNorm2d(256),\n",
        "            nn.ReLU(True),\n",
        "            nn.ConvTranspose2d(\n",
        "                256, 128, kernel_size=4, \n",
        "                stride=2, padding=1, bias=False),\n",
        "            nn.BatchNorm2d(128),\n",
        "            nn.ReLU(True),\n",
        "            nn.ConvTranspose2d(\n",
        "                128, 64, kernel_size=4, \n",
        "                stride=2, padding=1, bias=False),\n",
        "            nn.BatchNorm2d(64),\n",
        "            nn.ReLU(True),\n",
        "            nn.ConvTranspose2d(\n",
        "                64, 3, kernel_size=4, \n",
        "                stride=2, padding=1, bias=False),\n",
        "            nn.Tanh()\n",
        "        )\n",
        "    def forward(self, input):\n",
        "        return self.main(input)"
      ]
    },
    {
      "cell_type": "code",
      "execution_count": 5,
      "metadata": {
        "id": "P6b_FdiIpQfv"
      },
      "outputs": [],
      "source": [
        "class Discriminator(nn.Module):\n",
        "    def __init__(self):\n",
        "        super(Discriminator, self).__init__()\n",
        "        self.main = nn.Sequential(\n",
        "            nn.Conv2d(\n",
        "                3, 64, kernel_size=4, \n",
        "                stride=2, padding=1, bias=False),\n",
        "            nn.LeakyReLU(0.2, inplace=True),\n",
        "            nn.Conv2d(\n",
        "                64, 128, kernel_size=4, \n",
        "                stride=2, padding=1, bias=False),\n",
        "            nn.BatchNorm2d(128),\n",
        "            nn.LeakyReLU(0.2, inplace=True),\n",
        "            nn.Conv2d(\n",
        "                128, 256, kernel_size=4, \n",
        "                stride=2, padding=1, bias=False),\n",
        "            nn.BatchNorm2d(256),\n",
        "            nn.LeakyReLU(0.2, inplace=True),\n",
        "            nn.Conv2d(\n",
        "                256, 512, kernel_size=4, \n",
        "                stride=2, padding=1, bias=False),\n",
        "            nn.BatchNorm2d(512),\n",
        "            nn.LeakyReLU(0.2, inplace=True),\n",
        "            nn.Conv2d(\n",
        "                512, 1, kernel_size=4, \n",
        "                stride=1, padding=0, bias=False),\n",
        "            nn.Sigmoid()\n",
        "        )\n",
        "    def forward(self, input):\n",
        "        return self.main(input)"
      ]
    },
    {
      "cell_type": "code",
      "execution_count": 6,
      "metadata": {
        "id": "l7IzeR_JpQdG"
      },
      "outputs": [],
      "source": [
        "# mac m1\n",
        "device = torch.device('cuda:0' if torch.cuda.is_available() else 'mps')"
      ]
    },
    {
      "cell_type": "code",
      "execution_count": 7,
      "metadata": {
        "id": "k9w3TKf3pQay"
      },
      "outputs": [],
      "source": [
        "def label_real(size):\n",
        "    \"\"\"\n",
        "    Fucntion to create real labels (ones)\n",
        "    :param size: batch size\n",
        "    :return real label vector\n",
        "    \"\"\"\n",
        "    data = torch.ones(size, 1)\n",
        "    return data.to(device)\n",
        "\n",
        "    \n",
        "def label_fake(size):\n",
        "    \"\"\"\n",
        "    Fucntion to create fake labels (zeros)\n",
        "    :param size: batch size\n",
        "    :returns fake label vector\n",
        "    \"\"\"\n",
        "    data = torch.zeros(size, 1)\n",
        "    return data.to(device)"
      ]
    },
    {
      "cell_type": "code",
      "execution_count": 8,
      "metadata": {
        "id": "jy2mavhQpQYT"
      },
      "outputs": [],
      "source": [
        "def create_noise(sample_size, nz):\n",
        "    \"\"\"\n",
        "    Fucntion to create noise\n",
        "    :param sample_size: fixed sample size or batch size\n",
        "    :param nz: latent vector size\n",
        "    :returns random noise vector\n",
        "    \"\"\"\n",
        "    return torch.randn(sample_size, nz, 1, 1).to(device)"
      ]
    },
    {
      "cell_type": "code",
      "execution_count": 9,
      "metadata": {
        "id": "6O_SozRApQV8"
      },
      "outputs": [],
      "source": [
        "def save_generator_image(image, path):\n",
        "    \"\"\"\n",
        "    Function to save torch image batches\n",
        "    :param image: image tensor batch\n",
        "    :param path: path name to save image\n",
        "    \"\"\"\n",
        "    save_image(image, path, normalize=True)"
      ]
    },
    {
      "cell_type": "code",
      "execution_count": 10,
      "metadata": {
        "id": "40PgT6i1pQTd"
      },
      "outputs": [],
      "source": [
        "def weights_init(m):\n",
        "    \"\"\"\n",
        "    This function initializes the model weights randomly from a \n",
        "    Normal distribution. This follows the specification from the DCGAN paper.\n",
        "    https://arxiv.org/pdf/1511.06434.pdf\n",
        "    Source: https://pytorch.org/tutorials/beginner/dcgan_faces_tutorial.html\n",
        "    \"\"\"\n",
        "    classname = m.__class__.__name__\n",
        "    if classname.find('Conv') != -1:\n",
        "        nn.init.normal_(m.weight.data, 0.0, 0.02)\n",
        "    elif classname.find('BatchNorm') != -1:\n",
        "        nn.init.normal_(m.weight.data, 1.0, 0.02)\n",
        "        nn.init.constant_(m.bias.data, 0)"
      ]
    },
    {
      "cell_type": "code",
      "execution_count": 11,
      "metadata": {
        "id": "gXVd-25LpQRH"
      },
      "outputs": [],
      "source": [
        "# learning parameters / configurations according to paper\n",
        "image_size = 64 # we need to resize image to 64x64\n",
        "batch_size = 128\n",
        "nz = 100 # latent vector size\n",
        "beta1 = 0.5 # beta1 value for Adam optimizer\n",
        "lr = 0.0002 # learning rate according to paper\n",
        "sample_size = 64 # fixed sample size\n",
        "epochs = 5 # number of epoch to train"
      ]
    },
    {
      "cell_type": "code",
      "execution_count": 12,
      "metadata": {
        "id": "R80fazwHpQOb"
      },
      "outputs": [],
      "source": [
        "transform = transforms.Compose([\n",
        "    transforms.Resize(image_size),\n",
        "    transforms.ToTensor(),\n",
        "    transforms.Normalize((0.5, 0.5, 0.5), \n",
        "    (0.5, 0.5, 0.5)),\n",
        "])"
      ]
    },
    {
      "cell_type": "code",
      "execution_count": 13,
      "metadata": {
        "colab": {
          "base_uri": "https://localhost:8080/"
        },
        "id": "lx0qB8GapQMB",
        "outputId": "00833375-4be0-459a-cc9d-5361f29627c8"
      },
      "outputs": [
        {
          "name": "stdout",
          "output_type": "stream",
          "text": [
            "Files already downloaded and verified\n"
          ]
        }
      ],
      "source": [
        "# prepare the data\n",
        "train_data = datasets.CIFAR10(\n",
        "    root='../input/data',\n",
        "    train=True,\n",
        "    download=True,\n",
        "    transform=transform\n",
        ")\n",
        "train_loader = DataLoader(train_data, batch_size=batch_size, shuffle=True)"
      ]
    },
    {
      "cell_type": "code",
      "execution_count": 14,
      "metadata": {
        "id": "plt7Vs4jpQJd"
      },
      "outputs": [],
      "source": [
        "# initialize models\n",
        "generator = Generator(nz).to(device)\n",
        "discriminator = Discriminator().to(device) "
      ]
    },
    {
      "cell_type": "code",
      "execution_count": 15,
      "metadata": {
        "colab": {
          "base_uri": "https://localhost:8080/"
        },
        "id": "rHEYH3HrpQG7",
        "outputId": "8a1b39a2-8fe2-40e1-8dfe-626210552961"
      },
      "outputs": [
        {
          "data": {
            "text/plain": [
              "Discriminator(\n",
              "  (main): Sequential(\n",
              "    (0): Conv2d(3, 64, kernel_size=(4, 4), stride=(2, 2), padding=(1, 1), bias=False)\n",
              "    (1): LeakyReLU(negative_slope=0.2, inplace=True)\n",
              "    (2): Conv2d(64, 128, kernel_size=(4, 4), stride=(2, 2), padding=(1, 1), bias=False)\n",
              "    (3): BatchNorm2d(128, eps=1e-05, momentum=0.1, affine=True, track_running_stats=True)\n",
              "    (4): LeakyReLU(negative_slope=0.2, inplace=True)\n",
              "    (5): Conv2d(128, 256, kernel_size=(4, 4), stride=(2, 2), padding=(1, 1), bias=False)\n",
              "    (6): BatchNorm2d(256, eps=1e-05, momentum=0.1, affine=True, track_running_stats=True)\n",
              "    (7): LeakyReLU(negative_slope=0.2, inplace=True)\n",
              "    (8): Conv2d(256, 512, kernel_size=(4, 4), stride=(2, 2), padding=(1, 1), bias=False)\n",
              "    (9): BatchNorm2d(512, eps=1e-05, momentum=0.1, affine=True, track_running_stats=True)\n",
              "    (10): LeakyReLU(negative_slope=0.2, inplace=True)\n",
              "    (11): Conv2d(512, 1, kernel_size=(4, 4), stride=(1, 1), bias=False)\n",
              "    (12): Sigmoid()\n",
              "  )\n",
              ")"
            ]
          },
          "execution_count": 15,
          "metadata": {},
          "output_type": "execute_result"
        }
      ],
      "source": [
        "# initialize weights\n",
        "generator.apply(weights_init)\n",
        "discriminator.apply(weights_init)"
      ]
    },
    {
      "cell_type": "code",
      "execution_count": 16,
      "metadata": {
        "id": "quYG1c5HpQEX"
      },
      "outputs": [],
      "source": [
        "# optimizers\n",
        "optim_g = optim.Adam(generator.parameters(), lr=lr, betas=(beta1, 0.999))\n",
        "optim_d = optim.Adam(discriminator.parameters(), lr=lr, betas=(beta1, 0.999))\n",
        "\n",
        "# loss function\n",
        "criterion = nn.BCELoss()"
      ]
    },
    {
      "cell_type": "code",
      "execution_count": 17,
      "metadata": {
        "id": "l0OpXxXspQB5"
      },
      "outputs": [],
      "source": [
        "losses_g = [] # to store generator loss after each epoch\n",
        "losses_d = [] # to store discriminator loss after each epoch"
      ]
    },
    {
      "cell_type": "code",
      "execution_count": 18,
      "metadata": {
        "id": "Zj8iy533pP_T"
      },
      "outputs": [],
      "source": [
        "# function to train the discriminator network\n",
        "def train_discriminator(optimizer, data_real, data_fake):\n",
        "    b_size = data_real.size(0)\n",
        "    # get the real label vector\n",
        "    real_label = label_real(b_size)\n",
        "    # get the fake label vector\n",
        "    fake_label = label_fake(b_size)\n",
        "    optimizer.zero_grad()\n",
        "    # get the outputs by doing real data forward pass\n",
        "    output_real = discriminator(data_real).view(-1)\n",
        "    loss_real = criterion(output_real.unsqueeze(1), real_label)\n",
        "    # get the outputs by doing fake data forward pass\n",
        "    output_fake = discriminator(data_fake)\n",
        "    loss_fake = criterion(output_fake.squeeze(), fake_label.squeeze())\n",
        "    # compute gradients of real loss \n",
        "    loss_real.backward()\n",
        "    # compute gradients of fake loss\n",
        "    loss_fake.backward()\n",
        "    # update discriminator parameters\n",
        "    optimizer.step()\n",
        "    return loss_real + loss_fake"
      ]
    },
    {
      "cell_type": "code",
      "execution_count": 19,
      "metadata": {
        "id": "N5xYf49lpP4S"
      },
      "outputs": [],
      "source": [
        "# function to train the generator network\n",
        "def train_generator(optimizer, data_fake):\n",
        "    b_size = data_fake.size(0)\n",
        "    # get the real label vector\n",
        "    real_label = label_real(b_size)\n",
        "    optimizer.zero_grad()\n",
        "    # output by doing a forward pass of the fake data through discriminator\n",
        "    output = discriminator(data_fake)\n",
        "    loss = criterion(output.squeeze(), real_label.squeeze())\n",
        "    # compute gradients of loss\n",
        "    loss.backward()\n",
        "    # update generator parameters\n",
        "    optimizer.step()\n",
        "    return loss "
      ]
    },
    {
      "cell_type": "code",
      "execution_count": 20,
      "metadata": {
        "id": "2u6FTnSppe54"
      },
      "outputs": [],
      "source": [
        "# create the noise vector\n",
        "noise = create_noise(sample_size, nz)"
      ]
    },
    {
      "cell_type": "code",
      "execution_count": 21,
      "metadata": {
        "colab": {
          "base_uri": "https://localhost:8080/"
        },
        "id": "Jmm3aIFEpe3e",
        "outputId": "a5f190d8-71e0-4443-bb87-5a0809b7fa9d"
      },
      "outputs": [
        {
          "data": {
            "text/plain": [
              "Discriminator(\n",
              "  (main): Sequential(\n",
              "    (0): Conv2d(3, 64, kernel_size=(4, 4), stride=(2, 2), padding=(1, 1), bias=False)\n",
              "    (1): LeakyReLU(negative_slope=0.2, inplace=True)\n",
              "    (2): Conv2d(64, 128, kernel_size=(4, 4), stride=(2, 2), padding=(1, 1), bias=False)\n",
              "    (3): BatchNorm2d(128, eps=1e-05, momentum=0.1, affine=True, track_running_stats=True)\n",
              "    (4): LeakyReLU(negative_slope=0.2, inplace=True)\n",
              "    (5): Conv2d(128, 256, kernel_size=(4, 4), stride=(2, 2), padding=(1, 1), bias=False)\n",
              "    (6): BatchNorm2d(256, eps=1e-05, momentum=0.1, affine=True, track_running_stats=True)\n",
              "    (7): LeakyReLU(negative_slope=0.2, inplace=True)\n",
              "    (8): Conv2d(256, 512, kernel_size=(4, 4), stride=(2, 2), padding=(1, 1), bias=False)\n",
              "    (9): BatchNorm2d(512, eps=1e-05, momentum=0.1, affine=True, track_running_stats=True)\n",
              "    (10): LeakyReLU(negative_slope=0.2, inplace=True)\n",
              "    (11): Conv2d(512, 1, kernel_size=(4, 4), stride=(1, 1), bias=False)\n",
              "    (12): Sigmoid()\n",
              "  )\n",
              ")"
            ]
          },
          "execution_count": 21,
          "metadata": {},
          "output_type": "execute_result"
        }
      ],
      "source": [
        "generator.train()\n",
        "discriminator.train()"
      ]
    },
    {
      "cell_type": "code",
      "execution_count": 22,
      "metadata": {
        "colab": {
          "base_uri": "https://localhost:8080/"
        },
        "id": "OCT6bjTgpexY",
        "outputId": "216e139f-96c8-48a0-f2ae-e784581f10cf"
      },
      "outputs": [
        {
          "name": "stderr",
          "output_type": "stream",
          "text": [
            "391it [00:31, 12.24it/s]                         \n"
          ]
        },
        {
          "name": "stdout",
          "output_type": "stream",
          "text": [
            "Epoch 1 of 5\n",
            "Generator loss: 8.35338402, Discriminator loss: 0.48201448\n"
          ]
        },
        {
          "name": "stderr",
          "output_type": "stream",
          "text": [
            "391it [00:31, 12.57it/s]                         \n"
          ]
        },
        {
          "name": "stdout",
          "output_type": "stream",
          "text": [
            "Epoch 2 of 5\n",
            "Generator loss: 5.22671700, Discriminator loss: 0.49759772\n"
          ]
        },
        {
          "name": "stderr",
          "output_type": "stream",
          "text": [
            "391it [00:31, 12.36it/s]                         \n"
          ]
        },
        {
          "name": "stdout",
          "output_type": "stream",
          "text": [
            "Epoch 3 of 5\n",
            "Generator loss: 4.11235094, Discriminator loss: 0.59504646\n"
          ]
        },
        {
          "name": "stderr",
          "output_type": "stream",
          "text": [
            "391it [00:30, 12.81it/s]                         \n"
          ]
        },
        {
          "name": "stdout",
          "output_type": "stream",
          "text": [
            "Epoch 4 of 5\n",
            "Generator loss: 3.79984045, Discriminator loss: 0.64077646\n"
          ]
        },
        {
          "name": "stderr",
          "output_type": "stream",
          "text": [
            "391it [00:29, 13.17it/s]                         "
          ]
        },
        {
          "name": "stdout",
          "output_type": "stream",
          "text": [
            "Epoch 5 of 5\n",
            "Generator loss: 3.23828626, Discriminator loss: 0.65251219\n"
          ]
        },
        {
          "name": "stderr",
          "output_type": "stream",
          "text": [
            "\n"
          ]
        }
      ],
      "source": [
        "for epoch in range(epochs):\n",
        "    loss_g = 0.0\n",
        "    loss_d = 0.0\n",
        "    for bi, data in tqdm(enumerate(train_loader), total=int(len(train_data)/train_loader.batch_size)):\n",
        "        image, _ = data\n",
        "        image = image.to(device)\n",
        "        b_size = len(image)\n",
        "        # forward pass through generator to create fake data\n",
        "        data_fake = generator(create_noise(b_size, nz)).detach()\n",
        "        data_real = image\n",
        "        loss_d += train_discriminator(optim_d, data_real, data_fake)\n",
        "        data_fake = generator(create_noise(b_size, nz))\n",
        "        loss_g += train_generator(optim_g, data_fake)\n",
        "    # final forward pass through generator to create fake data...\n",
        "    # ...after training for current epoch\n",
        "    generated_img = generator(noise).cpu().detach()\n",
        "    # save the generated torch tensor models to disk\n",
        "    save_generator_image(generated_img, f\"./outputs/gen_img{epoch}.png\")\n",
        "    epoch_loss_g = loss_g / bi # total generator loss for the epoch\n",
        "    epoch_loss_d = loss_d / bi # total discriminator loss for the epoch\n",
        "    losses_g.append(epoch_loss_g)\n",
        "    losses_d.append(epoch_loss_d)\n",
        "    print(f\"Epoch {epoch+1} of {epochs}\")\n",
        "    print(f\"Generator loss: {epoch_loss_g:.8f}, Discriminator loss: {epoch_loss_d:.8f}\")"
      ]
    },
    {
      "cell_type": "code",
      "execution_count": 23,
      "metadata": {
        "colab": {
          "base_uri": "https://localhost:8080/"
        },
        "id": "oQtr-qlHpeu6",
        "outputId": "56dd0a49-5d3a-4ad9-870d-baf06f0d271d"
      },
      "outputs": [
        {
          "name": "stdout",
          "output_type": "stream",
          "text": [
            "DONE TRAINING\n"
          ]
        }
      ],
      "source": [
        "print('DONE TRAINING')\n",
        "# save the model weights to disk\n",
        "torch.save(generator.state_dict(), './outputs/generator.pth')"
      ]
    },
    {
      "cell_type": "code",
      "execution_count": 24,
      "metadata": {
        "colab": {
          "base_uri": "https://localhost:8080/",
          "height": 265
        },
        "id": "ZA0_jRi6pkzL",
        "outputId": "0049b6ff-6a92-4bb1-b256-83138ba07113"
      },
      "outputs": [
        {
          "data": {
            "image/png": "[encoded data removed]",
            "text/plain": [
              "<Figure size 432x288 with 1 Axes>"
            ]
          },
          "metadata": {},
          "output_type": "display_data"
        }
      ],
      "source": [
        "# plot and save the generator and discriminator loss\n",
        "plt.figure()\n",
        "plt.plot([x.detach().cpu().numpy() for x in losses_g], label='Generator loss')\n",
        "plt.plot([x.detach().cpu().numpy() for x in losses_d], label='Discriminator Loss')\n",
        "plt.legend()\n",
        "plt.savefig('./outputs/loss.png')\n",
        "plt.show()"
      ]
    }
  ],
  "metadata": {
    "accelerator": "GPU",
    "colab": {
      "provenance": []
    },
    "kernelspec": {
      "display_name": "torch-nightly",
      "language": "python",
      "name": "python3"
    },
    "language_info": {
      "codemirror_mode": {
        "name": "ipython",
        "version": 3
      },
      "file_extension": ".py",
      "mimetype": "text/x-python",
      "name": "python",
      "nbconvert_exporter": "python",
      "pygments_lexer": "ipython3",
      "version": "3.9.13"
    },
    "vscode": {
      "interpreter": {
        "hash": "875fa09842922e0087fd93a43681c3861d0fd965e95c34f8972f4164c6019b0e"
      }
    }
  },
  "nbformat": 4,
  "nbformat_minor": 0
}
